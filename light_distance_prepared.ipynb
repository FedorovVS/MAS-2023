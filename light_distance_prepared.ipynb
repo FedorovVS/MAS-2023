{
 "cells": [
  {
   "cell_type": "markdown",
   "id": "8d8f102c-505f-46ae-ae7e-cef1908a57e3",
   "metadata": {},
   "source": [
    "# Расчет расстояний до объектов\n",
    "## звезды типа RR Lyr $-$ стандартные свечи"
   ]
  },
  {
   "cell_type": "markdown",
   "id": "6343eea8-7a9a-4554-bd22-a44490b8e6e7",
   "metadata": {},
   "source": [
    "<a href=\"https://i1.wp.com/www.jimmynewland.com/wp/wp-content/uploads/2018/03/ngc3201-rrlyrae.gif?zoom=2&resize=740%2C416\"><img src=\"https://i1.wp.com/www.jimmynewland.com/wp/wp-content/uploads/2018/03/ngc3201-rrlyrae.gif?zoom=2&resize=740%2C416\" width=\"85%\" /></a> "
   ]
  },
  {
   "cell_type": "markdown",
   "id": "794b5dae-43c7-41a1-871e-0de4d50e6a18",
   "metadata": {},
   "source": [
    "*На картинке несколько кадров, заметны переменные звёзды*"
   ]
  },
  {
   "cell_type": "markdown",
   "id": "efe9e355-d2fa-4931-bb6b-2f5eb9e16f96",
   "metadata": {
    "tags": []
   },
   "source": [
    "<img src=\"https://upload.wikimedia.org/wikipedia/commons/thumb/2/28/Inverse_square_law.svg/2560px-Inverse_square_law.svg.png\" width=\"50%\" />"
   ]
  },
  {
   "cell_type": "markdown",
   "id": "96ee61be-8e23-4e5a-a1c8-74ad1baca4d0",
   "metadata": {},
   "source": [
    "*Закон обратных квадратов*"
   ]
  },
  {
   "cell_type": "markdown",
   "id": "2268781f-ec1c-44dc-9964-b98d38d49c96",
   "metadata": {},
   "source": [
    "\\begin{equation*}\n",
    "L=\\sigma{T^4}(4\\pi{R^2})\\>[\\mathbf{W}]\n",
    "\\end{equation*}"
   ]
  },
  {
   "cell_type": "markdown",
   "id": "ee85a460-7f46-4d8c-b750-c13d86707a19",
   "metadata": {},
   "source": [
    "Данные о температуре обычно получают, пользуясь законом смещения Вина:"
   ]
  },
  {
   "cell_type": "markdown",
   "id": "3771e81b-2da0-4852-8768-4433a0aae676",
   "metadata": {},
   "source": [
    "\\begin{equation*}\n",
    "\\lambda_{peak}\\cdot{T}=constant\\>[\\mathbf{m\\cdot{K}}]\n",
    "\\end{equation*}"
   ]
  },
  {
   "cell_type": "markdown",
   "id": "cda14788-8b3e-4eb1-b440-ea72fac07301",
   "metadata": {},
   "source": [
    "Текущая задача: определить расстояние до шарового скопления NGC 3201, пользуясь стандартными свечами."
   ]
  },
  {
   "cell_type": "markdown",
   "id": "09ee67c1-7132-4a0b-b1f5-2c61b18c9fd7",
   "metadata": {},
   "source": [
    "<img src=\"https://i0.wp.com/www.jimmynewland.com/wp/wp-content/uploads/2019/07/ngc-3201.jpg\" width=\"75%\" />"
   ]
  },
  {
   "cell_type": "markdown",
   "id": "a9116de9-3e50-443a-abe4-c2767b255372",
   "metadata": {},
   "source": [
    "Для нашего исследования возьмём одну из звезд типа RR Lyr: [NGC 3201 2216](http://simbad.u-strasbg.fr/simbad/sim-id?Ident=Cl*+NGC+3201+++++LS+++++358&NbIdent=1).\n",
    "Также нам нужен калибровочный источник, находящийся близко к интересующей нас звезде и попадающий в поле зрения инструментов. Возьмём [эту](http://simbad.u-strasbg.fr/simbad/sim-id?Ident=Cl*+NGC+3201+++CWFD++3-106&NbIdent=1) звезду.\n",
    "Обратите внимание, что в этой области нет иных ярких источников, а почти все звёзды являются частью скопления.\n",
    "<a href=\"https://i1.wp.com/www.jimmynewland.com/wp/wp-content/uploads/2019/08/rr-lryae-zoom.gif\"><img src=\"https://i1.wp.com/www.jimmynewland.com/wp/wp-content/uploads/2019/08/rr-lryae-zoom.gif\" width=\"75%\" /></a>\n",
    "<a href=\"https://i1.wp.com/www.jimmynewland.com/wp/wp-content/uploads/2019/08/field_zoomed.png\">\n",
    "<img src=\"https://i1.wp.com/www.jimmynewland.com/wp/wp-content/uploads/2019/08/field_zoomed.png\" width=\"75%\" /></a>\n",
    "\n",
    "Данные получены с помощью [Aladin Sky Atlas](https://aladin.u-strasbg.fr/)."
   ]
  },
  {
   "cell_type": "markdown",
   "id": "b11b9253-c873-42a0-8017-8f6c90b0235a",
   "metadata": {},
   "source": [
    "На кадре видны следующие объекты:\n",
    "<img src=\"https://i1.wp.com/www.jimmynewland.com/wp/wp-content/uploads/2019/08/sources_zoomed.png\" width=\"75%\" /></a>\n",
    "* inCl* - источник - звезда, часть скопления.\n",
    "* BlueStraggler - голубой страгглер: на [английском](http://astronomy.swin.edu.au/cosmos/b/blue+stragglers), на [русском](https://ru.wikipedia.org/wiki/%D0%93%D0%BE%D0%BB%D1%83%D0%B1%D1%8B%D0%B5_%D1%81%D1%82%D1%80%D0%B0%D0%B3%D0%B3%D0%BB%D0%B5%D1%80%D1%8B).\n",
    "* RGB* - звезды, покинувшие главную последовательность и ушедшие на [ветвь красных гигантов](http://astronomy.swin.edu.au/cosmos/H/Horizontal+Branch+stars) на ГР диаграмме.\n",
    "* RRLyr - переменные звезды, похожие на [RR Lyr](http://astronomy.swin.edu.au/cosmos/R/RR+Lyrae) с периодом меньше суток и известной звездной величиной.\n",
    "* Star - звезды, не являющиеся частью скопления (возможно).\n",
    "* X - источники жесткого излучения: пульсары (нейтронные звезды) или черные дыры."
   ]
  },
  {
   "cell_type": "markdown",
   "id": "0acf0254-4aea-490a-bc4d-eac2076ffbca",
   "metadata": {},
   "source": [
    "Далее - часть, в которой неиронично надо что-то делать("
   ]
  },
  {
   "cell_type": "code",
   "execution_count": 3,
   "id": "96b515c1-7615-424e-8598-7b47c6931082",
   "metadata": {
    "tags": []
   },
   "outputs": [
    {
     "name": "stdout",
     "output_type": "stream",
     "text": [
      "Defaulting to user installation because normal site-packages is not writeable\n",
      "Requirement already satisfied: sep in /home/vladimir/.local/lib/python3.10/site-packages (1.2.1)\n",
      "Requirement already satisfied: numpy in /home/vladimir/.local/lib/python3.10/site-packages (from sep) (1.24.1)\n"
     ]
    }
   ],
   "source": [
    "# Установка немного кривого пакета, который я нашел случайно\n",
    "# Его использует и обслуживает какая-то группа, https://github.com/kbarbary/sep\n",
    "# ! - знак для запуска команд терминала прямо в ноутбуке\n",
    "!pip install sep\n",
    "#!pip install numpy\n",
    "#!pip install matplotlib\n",
    "#!pip install astropy"
   ]
  },
  {
   "cell_type": "code",
   "execution_count": 4,
   "id": "d887ca8b-4e8a-4c05-9c8a-ab2b6a25a986",
   "metadata": {
    "tags": []
   },
   "outputs": [],
   "source": [
    "# Импорт всего, что потребуется\n",
    "import numpy as np\n",
    "import sep\n",
    "import math\n",
    "# Штуки для работы с файлами .fits, распространённый формат для хранения графической астроинформации\n",
    "from astropy.utils.data import download_file\n",
    "from astropy.io import fits\n",
    "\n",
    "import matplotlib.pyplot as plt\n",
    "from matplotlib import rcParams\n",
    "# % - специфические команды для jupyter. Colab просто игнорирует, в других случаях может что-нибудь сломать, но вы быстро об этом узнаете\n",
    "%matplotlib inline\n",
    "# Определение размера картинок\n",
    "rcParams['figure.figsize'] = [8., 8.]"
   ]
  },
  {
   "cell_type": "code",
   "execution_count": 28,
   "id": "62005370-acab-4a96-b446-233b0ba06f2d",
   "metadata": {
    "tags": []
   },
   "outputs": [],
   "source": [
    "# Значение звездной величины для Cl* NGC 3201 CWFD 3-106, наша калибровочная звезда\n",
    "# http://simbad.u-strasbg.fr/simbad/sim-id?Ident=Cl*+NGC+3201+CWFD+3-106\n",
    "m_calibration = 14.81\n",
    "# Значение абсолютной звездной величины для Cl* NGC 3201 LS 358, наша стандартная свеча, на основе некоторой статьи\n",
    "# https://iopscience.iop.org/article/10.1086/344948\n",
    "M_target = 0.58"
   ]
  },
  {
   "cell_type": "markdown",
   "id": "954f9cec-4590-409d-b1b8-b21ca65dea17",
   "metadata": {},
   "source": [
    "Для определения расстояния до звезды (а значит, и до скопления) нужно вычислить видимую звёздную величину. Это наиболее трудоемкая подзадача."
   ]
  },
  {
   "cell_type": "code",
   "execution_count": 1,
   "id": "9235daf0-8385-4bc2-b326-b212588ddc58",
   "metadata": {
    "tags": []
   },
   "outputs": [],
   "source": [
    "\"\"\"\n",
    "    Функция для определения расстояния (в пк удобнее всего) до объекта из абсолютной и видимой звездной величины\n",
    "\"\"\"\n",
    "def distance_modulus(m,M):\n",
    "    return ..."
   ]
  },
  {
   "cell_type": "code",
   "execution_count": 2,
   "id": "36b2faeb-3fdc-45d9-a300-1578721f175d",
   "metadata": {
    "tags": []
   },
   "outputs": [
    {
     "name": "stdout",
     "output_type": "stream",
     "text": [
      "\n"
     ]
    }
   ],
   "source": [
    "\"\"\"\n",
    "    Проверим функцию на данных о Солнце:\n",
    "    m = -26.76 , M =4.81\n",
    "    Результат получите в а.е., должно получиться что-то около 1\n",
    "\"\"\"\n",
    "print()"
   ]
  },
  {
   "cell_type": "code",
   "execution_count": 9,
   "id": "cdc95a9f-9967-4b93-bd70-1f3a211a29e0",
   "metadata": {
    "tags": []
   },
   "outputs": [],
   "source": [
    "\"\"\"\n",
    "    Функция для получения звездной величины из потока,\n",
    "    информация о котором поступает от инструмента\n",
    "    Подробнее о переводе величин:\n",
    "    http://classic.sdss.org/dr7/algorithms/fluxcal.html\n",
    "\"\"\"\n",
    "def app_mag(flux):\n",
    "    return -2.5*math.log10(flux/(25.11*10**8))"
   ]
  },
  {
   "cell_type": "code",
   "execution_count": 8,
   "id": "a91d1eb8-f761-431d-be55-40811bd2b33e",
   "metadata": {
    "tags": []
   },
   "outputs": [
    {
     "name": "stdout",
     "output_type": "stream",
     "text": [
      "14.81853020554703\n"
     ]
    }
   ],
   "source": [
    "\"\"\"\n",
    "    Проверка функции конвертации, на основе данных о калибровочной звезде\n",
    "    https://iopscience.iop.org/article/10.1086/344948\n",
    "    Должно получиться 14.81\n",
    "\"\"\"\n",
    "print(app_mag(2967.8))"
   ]
  },
  {
   "cell_type": "markdown",
   "id": "c7625152-3799-4b1b-b2af-8e77c5e94122",
   "metadata": {},
   "source": [
    "Далее некоторые технические функции для работы с данными"
   ]
  },
  {
   "cell_type": "code",
   "execution_count": 3,
   "id": "adc24ead-b93b-4a14-acbe-aae602a7daf1",
   "metadata": {
    "tags": []
   },
   "outputs": [],
   "source": [
    "\"\"\"\n",
    "    Функция для отражения картинки по обоим осям. Одно из изображений,\n",
    "    которые мы будем использовать, перевернуто\n",
    "\"\"\"\n",
    "def mirror_data(data):\n",
    "    dataout = np.array(data)\n",
    "    rows = len(data)\n",
    "    cols = len(data[0])\n",
    "    for r in range(rows):\n",
    "        for c in range(cols):\n",
    "            ...\n",
    "    return dataout"
   ]
  },
  {
   "cell_type": "code",
   "execution_count": 10,
   "id": "be6b7ad3-42ea-4e4f-aabd-dbbaa3baba2e",
   "metadata": {
    "tags": []
   },
   "outputs": [],
   "source": [
    "\"\"\"\n",
    "    Получение данных из файла в формате .fits\n",
    "\"\"\"\n",
    "def get_image_data(filename, mirror=False):\n",
    "\n",
    "    file = filename\n",
    "    image_file = download_file(file, cache=True )\n",
    "\n",
    "    data = fits.getdata(image_file)\n",
    "    \n",
    "    if mirror==True:\n",
    "        data = mirror_data(data)\n",
    "    \n",
    "    # Эта штука нужна, чтобы с нашими данными мог работать пакет sep\n",
    "    # https://sep.readthedocs.io/en/v1.0.x/tutorial.html#Finally-a-brief-word-on-byte-order\n",
    "    data = data.byteswap().newbyteorder()\n",
    "    \n",
    "    return data"
   ]
  },
  {
   "cell_type": "code",
   "execution_count": 12,
   "id": "b98fc40e-d2e0-4b32-8a0b-85ba35c3cb13",
   "metadata": {
    "tags": []
   },
   "outputs": [],
   "source": [
    "\"\"\"\n",
    "    Эта функция будет вычитать из сырой картинки фон\n",
    "\"\"\"\n",
    "def subtract_background(data):\n",
    "    # Вычисление пространственной вариации фона на картинке\n",
    "    bkg = sep.Background(data)\n",
    "    \n",
    "    # Создание массива для фона\n",
    "    bkg_image = bkg.back()\n",
    "    # bkg_image = np.array(bkg) # то же самое, но через numpy\n",
    "    \n",
    "    # оценка величины фона, вычитание\n",
    "    bkg_rms = bkg.rms()\n",
    "    data_sub = data - bkg\n",
    "    \n",
    "    return data_sub, bkg"
   ]
  },
  {
   "cell_type": "markdown",
   "id": "153691f6-082c-4838-9a26-7d40e00461a4",
   "metadata": {},
   "source": [
    "Работа со слабыми объектами осложняется шумом, он замыливает детали, ухудшает точность. Пакет sep позволяет решить эту проблему и повысить информативность данных."
   ]
  },
  {
   "cell_type": "code",
   "execution_count": 14,
   "id": "ea6222f8-bdd0-4593-a98d-4dee3c36f10a",
   "metadata": {
    "tags": []
   },
   "outputs": [],
   "source": [
    "# Скачивание и подготовка данных\n",
    "data = get_image_data('http://jimmynewland.com/astronomy/ngc-3201/ngc3201_1.fits')\n",
    "# Разделение на фон и очищенный сигнал\n",
    "data_sub, bkg = subtract_background(data)\n",
    "bkg_image = bkg.back()"
   ]
  },
  {
   "cell_type": "code",
   "execution_count": 6,
   "id": "55bd513a-f3c2-4382-af0c-ef33ee62c85d",
   "metadata": {
    "tags": []
   },
   "outputs": [
    {
     "ename": "NameError",
     "evalue": "name 'np' is not defined",
     "output_type": "error",
     "traceback": [
      "\u001b[0;31m---------------------------------------------------------------------------\u001b[0m",
      "\u001b[0;31mNameError\u001b[0m                                 Traceback (most recent call last)",
      "Cell \u001b[0;32mIn[6], line 2\u001b[0m\n\u001b[1;32m      1\u001b[0m \u001b[38;5;66;03m# Рисование и нормировка, нечищенные данные\u001b[39;00m\n\u001b[0;32m----> 2\u001b[0m m1, s1 \u001b[38;5;241m=\u001b[39m \u001b[43mnp\u001b[49m\u001b[38;5;241m.\u001b[39mmean(data), np\u001b[38;5;241m.\u001b[39mstd(data)\n\u001b[1;32m      3\u001b[0m plt\u001b[38;5;241m.\u001b[39mimshow(data, interpolation\u001b[38;5;241m=\u001b[39m\u001b[38;5;124m'\u001b[39m\u001b[38;5;124mnearest\u001b[39m\u001b[38;5;124m'\u001b[39m, cmap\u001b[38;5;241m=\u001b[39m\u001b[38;5;124m'\u001b[39m\u001b[38;5;124mgray\u001b[39m\u001b[38;5;124m'\u001b[39m,vmin\u001b[38;5;241m=\u001b[39mm1\u001b[38;5;241m-\u001b[39ms1, vmax\u001b[38;5;241m=\u001b[39mm1\u001b[38;5;241m+\u001b[39ms1, origin\u001b[38;5;241m=\u001b[39m\u001b[38;5;124m'\u001b[39m\u001b[38;5;124mlower\u001b[39m\u001b[38;5;124m'\u001b[39m)\n",
      "\u001b[0;31mNameError\u001b[0m: name 'np' is not defined"
     ]
    }
   ],
   "source": [
    "# Рисование и нормировка, нечищенные данные\n",
    "m1, s1 = np.mean(data), np.std(data)\n",
    "plt.imshow(data, interpolation='nearest', cmap='gray',vmin=m1-s1, vmax=m1+s1, origin='lower')"
   ]
  },
  {
   "cell_type": "code",
   "execution_count": 5,
   "id": "18171293-6d94-4619-89b8-2e2e2f801784",
   "metadata": {
    "tags": []
   },
   "outputs": [
    {
     "ename": "NameError",
     "evalue": "name 'plt' is not defined",
     "output_type": "error",
     "traceback": [
      "\u001b[0;31m---------------------------------------------------------------------------\u001b[0m",
      "\u001b[0;31mNameError\u001b[0m                                 Traceback (most recent call last)",
      "Cell \u001b[0;32mIn[5], line 2\u001b[0m\n\u001b[1;32m      1\u001b[0m \u001b[38;5;66;03m# Рисование, фон, нормировка не требуется\u001b[39;00m\n\u001b[0;32m----> 2\u001b[0m \u001b[43mplt\u001b[49m\u001b[38;5;241m.\u001b[39mimshow()\n",
      "\u001b[0;31mNameError\u001b[0m: name 'plt' is not defined"
     ]
    }
   ],
   "source": [
    "# Рисование, фон, нормировка не требуется\n",
    "plt.imshow()"
   ]
  },
  {
   "cell_type": "code",
   "execution_count": 4,
   "id": "59431fa8-70f6-4213-a1e5-2db49819f02d",
   "metadata": {
    "tags": []
   },
   "outputs": [
    {
     "ename": "NameError",
     "evalue": "name 'plt' is not defined",
     "output_type": "error",
     "traceback": [
      "\u001b[0;31m---------------------------------------------------------------------------\u001b[0m",
      "\u001b[0;31mNameError\u001b[0m                                 Traceback (most recent call last)",
      "Cell \u001b[0;32mIn[4], line 2\u001b[0m\n\u001b[1;32m      1\u001b[0m \u001b[38;5;66;03m# Рисование очищенных данных, нормировка нужна\u001b[39;00m\n\u001b[0;32m----> 2\u001b[0m \u001b[43mplt\u001b[49m\u001b[38;5;241m.\u001b[39mimshow()\n",
      "\u001b[0;31mNameError\u001b[0m: name 'plt' is not defined"
     ]
    }
   ],
   "source": [
    "# Рисование очищенных данных, нормировка нужна\n",
    "plt.imshow()"
   ]
  },
  {
   "cell_type": "code",
   "execution_count": 20,
   "id": "f57b3807-bb46-4d6a-b7c4-6d74100d51f6",
   "metadata": {
    "tags": []
   },
   "outputs": [],
   "source": [
    "\"\"\"\n",
    "    Эта функция принимает в себя чистые данные, фон, а также координаты\n",
    "    области, где находится интересующая нас звезда.\n",
    "    Функция нарисует эллипсы вокруг всех найденных источников в области и выдаст\n",
    "    список всех выделенных источников\n",
    "\"\"\"\n",
    "def extract_sources(data_sub, bkg, x1, y1, x2, y2):\n",
    "    # поиск штук\n",
    "    objects = sep.extract(data_sub, 1.5, err=bkg.globalrms)\n",
    "    \n",
    "    from matplotlib.patches import Ellipse\n",
    "\n",
    "    # рисование чистых данных\n",
    "    fig, ax = plt.subplots()\n",
    "    m, s = np.mean(data_sub), np.std(data_sub)\n",
    "    im = ax.imshow(data_sub, interpolation='nearest', cmap='gray',\n",
    "               vmin=m-s, vmax=m+s, origin='lower')\n",
    "    plt.xlim(x1,x2)\n",
    "    plt.ylim(y1,y2)\n",
    "\n",
    "    # Рисование эллипсов\n",
    "    for i in range(len(objects)):\n",
    "        e = Ellipse(xy=(objects['x'][i], objects['y'][i]),\n",
    "                width=6*objects['a'][i],\n",
    "                height=6*objects['b'][i],\n",
    "                angle=objects['theta'][i] * 180. / np.pi)\n",
    "        e.set_facecolor('none')\n",
    "        e.set_edgecolor('red')\n",
    "        ax.add_artist(e)\n",
    "    plt.show()\n",
    "    \n",
    "    return objects"
   ]
  },
  {
   "cell_type": "code",
   "execution_count": 21,
   "id": "bf86a0aa-7698-4308-ba6e-b5965d2d3c55",
   "metadata": {
    "tags": []
   },
   "outputs": [],
   "source": [
    "\"\"\"\n",
    "    Эта функция помогает найти координаты целевой звезды:\n",
    "    будем искать ближайший к центру области источник.\n",
    "    Функция возвращает координаты центра прямоугольника с заданными координатами\n",
    "\"\"\"\n",
    "def select_target(x1, y1, x2, y2):\n",
    "\n",
    "    ...\n",
    "    \n",
    "    return cen_x, cen_y"
   ]
  },
  {
   "cell_type": "code",
   "execution_count": 22,
   "id": "6ded12c4-898a-46d2-a28d-8e2778dd8b8f",
   "metadata": {
    "tags": []
   },
   "outputs": [],
   "source": [
    "\"\"\"\n",
    "    Эта функция суммирует поток по круглой области на картинке (arr)\n",
    "    Технически - просто сумма пикселей\n",
    "\"\"\"\n",
    "def sum_circle(arr, cx, cy, r):\n",
    "    \n",
    "    ...\n",
    "    \n",
    "    return ..."
   ]
  },
  {
   "cell_type": "code",
   "execution_count": 23,
   "id": "d231c3be-a4d8-4847-9872-f287c8ae2530",
   "metadata": {
    "tags": []
   },
   "outputs": [],
   "source": [
    "\"\"\"\n",
    "    Функция потребляет список найденных источников, чистые данные, фон и координаты центра\n",
    "    \n",
    "    Далее вычисляется поток от ближайшего к центру источника\n",
    "\"\"\"\n",
    "def get_target_flux(objects, data_sub, bkg, cen_x, cen_y):\n",
    "    target_flux = 0\n",
    "    \n",
    "    for i in range(len(objects)):\n",
    "        curr_x = objects[i]['x']\n",
    "        curr_y = objects[i]['y']\n",
    "        \n",
    "        if curr_x > cen_x-5 and curr_x < cen_x+5 and curr_y > cen_y-5 and curr_y < cen_y+5:\n",
    "            print(data_sub)\n",
    "            flux = sum_circle(data_sub, objects[i]['x'], objects[i]['y'],3.0)\n",
    "            target_flux = round(int(flux))\n",
    "    return target_flux"
   ]
  },
  {
   "cell_type": "code",
   "execution_count": 24,
   "id": "095cc370-c168-4a1b-9037-a652138c5187",
   "metadata": {
    "tags": []
   },
   "outputs": [],
   "source": [
    "\"\"\"\n",
    "    Функция находит в списке источников калибровочный источник и вычисляет поток от него\n",
    "\"\"\"\n",
    "def get_calib_flux(objects, data_sub, bkg, cen_x, cen_y):\n",
    "    for i in range(len(objects)):\n",
    "        curr_x = objects[i]['x']\n",
    "        curr_y = objects[i]['y']\n",
    "            \n",
    "        if curr_x > cen_x-5 and curr_x < cen_x+5 and curr_y > cen_y-81-15 and curr_y < cen_y-81+15:\n",
    "            flux = sum_circle(data_sub, objects[i]['x'], objects[i]['y'],3.0)\n",
    "            calibration_flux = round(int(flux))\n",
    "    return calibration_flux"
   ]
  },
  {
   "cell_type": "code",
   "execution_count": 25,
   "id": "a77a396e-5928-41f6-a149-a0bbc25a2f05",
   "metadata": {
    "tags": []
   },
   "outputs": [],
   "source": [
    "\"\"\"\n",
    "\"\"\"\n",
    "def process_image(filename, x1=0, y1=0, x2=2048, y2=2048, mirror=False):\n",
    "    # Получение данных\n",
    "    data = get_image_data(filename, mirror)\n",
    "    \n",
    "    # Получение фона\n",
    "    data_sub, bkg = subtract_background(data)\n",
    "    \n",
    "    # Поиск источников\n",
    "    objects = extract_sources(data_sub, bkg, x1, y1, x2, y2)\n",
    "    \n",
    "    # Нахождение центра кадра\n",
    "    cen_x, cen_y = select_target(x1, y1, x2, y2)\n",
    "    \n",
    "    # Нахождение потока от целевого источника\n",
    "    target_flux = get_target_flux(objects, data_sub, bkg, cen_x, cen_y)\n",
    "    \n",
    "    # Нахождение потока от калибровочного источника\n",
    "    calibration_flux = get_calib_flux(objects, data_sub, bkg, cen_x, cen_y)\n",
    "    \n",
    "    # Преобразование потока в звездные величины\n",
    "    m_cal_ap = app_mag(calibration_flux)\n",
    "    \n",
    "    # Нормировка значений для калибровочного источника\n",
    "    f_cal = m_cal_ap/m_calibration # Калибровочное соотношение\n",
    "    m_cal = m_cal_ap/f_cal \n",
    "    \n",
    "    # Преобразование потока целевого источника в абсолютною звездную величину\n",
    "    m_tar_ap = app_mag(target_flux)\n",
    "    \n",
    "    # Калибровка яркости целевого источника\n",
    "    m_tar = m_tar_ap/f_cal\n",
    "        \n",
    "    print(\"App. mag of target star m = : \"+str(m_tar))\n",
    "    print(\"App. mag of calib. star m = : \"+str(m_cal))\n",
    "    \n",
    "    # Return the magnitude for the distance calculation\n",
    "    return m_tar"
   ]
  },
  {
   "cell_type": "code",
   "execution_count": 26,
   "id": "f05692ca-ce16-4999-ad24-93746c1ca9b9",
   "metadata": {
    "tags": []
   },
   "outputs": [],
   "source": [
    "# Список для значений звездной величины целевого источника\n",
    "target_mags = []"
   ]
  },
  {
   "cell_type": "markdown",
   "id": "c4885cad-528e-4b6b-b3ba-122277157582",
   "metadata": {},
   "source": [
    "Данные для работы process_image:<br>\n",
    "filename='http://jimmynewland.com/astronomy/ngc-3201/ngc3201_1.fits'<br>\n",
    "    x1=860<br>\n",
    "    x2=1060<br>\n",
    "    y1=668<br>\n",
    "    y2=868<br>\n",
    "filename='http://jimmynewland.com/astronomy/ngc-3201/ngc3201_2.fits'<br>\n",
    "    x1=869<br>\n",
    "    x2=1069<br>\n",
    "    y1=673<br>\n",
    "    y2=873<br>\n",
    "filename='http://jimmynewland.com/astronomy/ngc-3201/ngc3201_3.fits'<br>\n",
    "    x1=205<br>\n",
    "    x2=435<br>\n",
    "    y1=190<br>\n",
    "    y2=420<br>\n",
    "filename='http://jimmynewland.com/astronomy/ngc-3201/ngc3201_4.fits'<br>\n",
    "    x1=262<br>\n",
    "    x2=462<br>\n",
    "    y1=195<br>\n",
    "    y2=395<br>\n",
    "filename='http://jimmynewland.com/astronomy/ngc-3201/ngc3201_5.fits'<br>\n",
    "    x1=641<br>\n",
    "    x2=841<br>\n",
    "    y1=709<br>\n",
    "    y2=909<br>\n",
    "    mirror=True<br>"
   ]
  },
  {
   "cell_type": "code",
   "execution_count": null,
   "id": "4dc40667-9a48-47e6-9502-05da812986d5",
   "metadata": {
    "tags": []
   },
   "outputs": [],
   "source": []
  },
  {
   "cell_type": "code",
   "execution_count": null,
   "id": "a60ae463-adf9-4477-9dad-a042f6324d7a",
   "metadata": {
    "tags": []
   },
   "outputs": [],
   "source": []
  },
  {
   "cell_type": "code",
   "execution_count": null,
   "id": "3121345f-cb33-45ac-b91d-85862be4c6b5",
   "metadata": {
    "tags": []
   },
   "outputs": [],
   "source": []
  },
  {
   "cell_type": "code",
   "execution_count": null,
   "id": "64432957-eae8-4f60-a014-50c837802b4f",
   "metadata": {
    "tags": []
   },
   "outputs": [],
   "source": []
  },
  {
   "cell_type": "code",
   "execution_count": null,
   "id": "b0c41831-d540-45cc-a750-362f26c78fcd",
   "metadata": {
    "tags": []
   },
   "outputs": [],
   "source": []
  },
  {
   "cell_type": "code",
   "execution_count": 7,
   "id": "39447205-1ba9-4bdb-ad06-d23a196fdc8c",
   "metadata": {
    "tags": []
   },
   "outputs": [
    {
     "ename": "NameError",
     "evalue": "name 'target_mags' is not defined",
     "output_type": "error",
     "traceback": [
      "\u001b[0;31m---------------------------------------------------------------------------\u001b[0m",
      "\u001b[0;31mNameError\u001b[0m                                 Traceback (most recent call last)",
      "Cell \u001b[0;32mIn[7], line 2\u001b[0m\n\u001b[1;32m      1\u001b[0m \u001b[38;5;66;03m# Смотрим на список звёздных величин целевого источника на каждом кадре\u001b[39;00m\n\u001b[0;32m----> 2\u001b[0m \u001b[38;5;28mprint\u001b[39m(\u001b[43mtarget_mags\u001b[49m)\n",
      "\u001b[0;31mNameError\u001b[0m: name 'target_mags' is not defined"
     ]
    }
   ],
   "source": [
    "# Смотрим на список звёздных величин целевого источника на каждом кадре\n",
    "print(target_mags)"
   ]
  },
  {
   "cell_type": "code",
   "execution_count": 9,
   "id": "79f7ff06-d43c-4ba5-b6cc-02479d1e6a57",
   "metadata": {
    "tags": []
   },
   "outputs": [
    {
     "name": "stdout",
     "output_type": "stream",
     "text": [
      "Ellipsis\n"
     ]
    }
   ],
   "source": [
    "# Из всех значений имеет смысл выбрать самое яркое\n",
    "brightest = ...\n",
    "# Учтем межзвездное поглощение, в направлении наших источников оно составляет 0.25 звездных величин\n",
    "m_target = ...\n",
    "print(m_target)"
   ]
  },
  {
   "cell_type": "code",
   "execution_count": 40,
   "id": "5b70a6f0-1f49-4e87-ae30-8bf60d7a9c6b",
   "metadata": {
    "tags": []
   },
   "outputs": [
    {
     "name": "stdout",
     "output_type": "stream",
     "text": [
      "Distance to NGC 3201: 4.8657759946838715 kpc\n"
     ]
    }
   ],
   "source": [
    "distance = distance_modulus(m_target,M_target)/1000\n",
    "print('Distance to NGC 3201: '+str(distance)+' kpc')"
   ]
  },
  {
   "cell_type": "markdown",
   "id": "3efecc3f-c595-4074-8360-201ea7f43781",
   "metadata": {},
   "source": [
    "Верное значение расстояния до NGC 3201 - 4.9 кпк.\n",
    "Дополнительно можно ознакомиться с [этим](https://www.jimmynewland.com/wp/astro/measuring-rr-lyrae-stars-in-ngc-3201/) материалом, там еще и презентация есть."
   ]
  }
 ],
 "metadata": {
  "kernelspec": {
   "display_name": "Python 3 (ipykernel)",
   "language": "python",
   "name": "python3"
  },
  "language_info": {
   "codemirror_mode": {
    "name": "ipython",
    "version": 3
   },
   "file_extension": ".py",
   "mimetype": "text/x-python",
   "name": "python",
   "nbconvert_exporter": "python",
   "pygments_lexer": "ipython3",
   "version": "3.10.12"
  }
 },
 "nbformat": 4,
 "nbformat_minor": 5
}
